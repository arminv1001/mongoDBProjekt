{
 "cells": [
  {
   "cell_type": "markdown",
   "metadata": {},
   "source": [
    "# Web Scraper + MongoDB\n",
    "Daten werden von der Seite https://www.nasdaq.com/market-activity/earnings gewonnen und in der Datenbank DB_Earnings abgespeichert."
   ]
  },
  {
   "cell_type": "code",
   "execution_count": 1,
   "metadata": {},
   "outputs": [],
   "source": [
    "from pymongo import MongoClient\n",
    "from selenium import webdriver\n",
    "from datetime import datetime as DateTime\n",
    "from datetime import date\n",
    "import time"
   ]
  },
  {
   "cell_type": "markdown",
   "metadata": {},
   "source": [
    "# Verbindung zur Datenbank"
   ]
  },
  {
   "cell_type": "code",
   "execution_count": 2,
   "metadata": {},
   "outputs": [],
   "source": [
    "client = MongoClient(\"mongodb+srv://user1:@datenbankearnings.9f0rr.mongodb.net/DatenbankEarnings?retryWrites=true&w=majority\")\n",
    "db = client.get_database(\"DB_Earnings\")\n",
    "aktien_tabelle = db.Aktie\n",
    "data_tabelle = db.Daten"
   ]
  },
  {
   "cell_type": "markdown",
   "metadata": {},
   "source": [
    "## Web Scraper NASDAQ/Earnings\n",
    "Dieser Abschnitt implementiert einen Web Scraper, der die Seite NASDAQ/Earnings durch geht und die Daten für jede Aktie sammelt."
   ]
  },
  {
   "cell_type": "code",
   "execution_count": 3,
   "metadata": {},
   "outputs": [],
   "source": [
    "def strtoArray(symbol_String):\n",
    "    csv_array = []\n",
    "    string = \"\"\n",
    "    for i in symbol_String:\n",
    "        if i == \" \":\n",
    "            csv_array.append(string)\n",
    "            string = \"\"\n",
    "        else:\n",
    "            string = string + i\n",
    "    return csv_array"
   ]
  },
  {
   "cell_type": "code",
   "execution_count": 4,
   "metadata": {},
   "outputs": [],
   "source": [
    "def klick(web,tag):\n",
    "    print(tag)\n",
    "    if(tag < 10):\n",
    "        tag_str= \"0\" + str(tag)\n",
    "    else:\n",
    "        tag_str = str(tag)\n",
    "    button = web.find_element_by_xpath(\"//button [@data-day = '\" + tag_str + \"']\")\n",
    "    button.click()\n",
    "    time.sleep(5)"
   ]
  },
  {
   "cell_type": "code",
   "execution_count": 5,
   "metadata": {},
   "outputs": [],
   "source": [
    "def auslesen(filter_true, fitler_mrd,tag):\n",
    "    driver = webdriver.Safari(executable_path=\"/usr/bin/safaridriver\")\n",
    "    driver.maximize_window()\n",
    "    driver.get(\"https://www.nasdaq.com/market-activity/earnings\")\n",
    "    klick(driver,tag)\n",
    "    content = driver.find_elements_by_class_name(\"market-calendar-table__row\")\n",
    "    symbol_key = 0  # 1 -> Pre Market; 2 -> After Hours; 3 -> Time not supplied\n",
    "    daily_array = []\n",
    "    j = 2 # falls Daten im voraus gelesen werden sollen\n",
    "    for symbol in content:\n",
    "        symbol_string = symbol.text\n",
    "        symbol_string = symbol_string.replace(\" \", \"\")\n",
    "        symbol_string = symbol_string.replace(\"\\n\", \" \")\n",
    "        symbol_array = strtoArray(symbol_string)\n",
    "        symbol_array = list(filter(None, symbol_array))\n",
    "        img_src = symbol.find_element_by_class_name(\"market-calendar-table__icons\").get_attribute(\"src\")\n",
    "        if \"time-pre-market\" in img_src:\n",
    "            symbol_key = 1\n",
    "        elif \"time-after-hours\" in img_src:\n",
    "            symbol_key = 2\n",
    "        elif \"time-not-supplied\" in img_src:\n",
    "            symbol_key = 3\n",
    "        else:\n",
    "            print(\"Fehler - key\")\n",
    "        symbol_array.append(symbol_key)\n",
    "        symbol_array_wert = symbol_array[2 + j].replace(\",\", \"\")\n",
    "        symbol_array_wert = symbol_array_wert.replace(\"$\", \"\")\n",
    "        if (int(symbol_array_wert.replace(\"(\",\"\").replace(\")\",\"\")) > (fitler_mrd * (10 ** 9)) and filter_true):\n",
    "            symbol_array.append(symbol_array_wert)\n",
    "            daily_array.append(symbol_array)\n",
    "    driver.close()\n",
    "    return daily_array"
   ]
  },
  {
   "cell_type": "markdown",
   "metadata": {},
   "source": [
    "# Aktien in MongoDB Tabelle schreiben"
   ]
  },
  {
   "cell_type": "markdown",
   "metadata": {},
   "source": [
    "## Create JSON"
   ]
  },
  {
   "cell_type": "code",
   "execution_count": 6,
   "metadata": {},
   "outputs": [],
   "source": [
    "def create_json_aktie(aktie):\n",
    "    aktie_json = {}\n",
    "    aktie_json[\"Symbol\"] = aktie[0]\n",
    "    aktie_json[\"Name\"] = aktie[1]\n",
    "    aktie_json[\"Marktkapitalisierung\"] = int(aktie[len(aktie)-1])\n",
    "    return aktie_json"
   ]
  },
  {
   "cell_type": "code",
   "execution_count": 7,
   "metadata": {},
   "outputs": [],
   "source": [
    "def create_json_data(aktie,tag,monat):\n",
    "    data_json = {}\n",
    "    data_json[\"Symbol\"] = aktie[0]\n",
    "    eps = aktie[2].replace(\"$\",\"\")\n",
    "    eps = eps.replace(\"(\",\"\")\n",
    "    eps = eps.replace(\")\",\"\")\n",
    "    data_json[\"EPS\"] = float(eps.replace(\",\",\"\"))\n",
    "    data_json[\"Surprise\"] = float(aktie[3])\n",
    "    data_json[\"Datum\"] = str(tag) + \".\"+ str(monat) + DateTime.now().strftime(\".%y%y\")\n",
    "    return data_json"
   ]
  },
  {
   "cell_type": "markdown",
   "metadata": {},
   "source": [
    "## Insert/Update Daten und Aktien in DB"
   ]
  },
  {
   "cell_type": "code",
   "execution_count": 8,
   "metadata": {},
   "outputs": [],
   "source": [
    "def data_to_DB(aktie,tag,monat):\n",
    "    data_json = create_json_data(aktie,tag,monat)\n",
    "    if(not bool(data_tabelle.find_one(data_json))):\n",
    "        data_tabelle.insert_one(data_json)"
   ]
  },
  {
   "cell_type": "code",
   "execution_count": 9,
   "metadata": {},
   "outputs": [],
   "source": [
    "def daily_list_to_DB(daily_list,tag,monat):\n",
    "    for aktie in daily_list:\n",
    "        aktie_json = create_json_aktie(aktie)\n",
    "        data_to_DB(aktie,tag,monat) \n",
    "        print(aktie)\n",
    "        if(not bool(aktien_tabelle.find_one({\"Symbol\":aktie_json[\"Symbol\"]}))):\n",
    "            aktien_tabelle.insert_one(aktie_json)\n",
    "            print(\"Insert\")\n",
    "        else:\n",
    "            symbol = aktie_json.pop(\"Symbol\")\n",
    "            aktie_json.pop(\"Name\")\n",
    "            aktien_tabelle.update_one({\"Symbol\":symbol},{\"$set\":aktie_json})\n",
    "            print(\"Update\")\n",
    "        print(\"_____________\")"
   ]
  },
  {
   "cell_type": "markdown",
   "metadata": {},
   "source": [
    "# Start"
   ]
  },
  {
   "cell_type": "code",
   "execution_count": 10,
   "metadata": {},
   "outputs": [],
   "source": [
    "def start_scraping(filter_true, filter_mrd):\n",
    "    tag = int(DateTime.now().strftime('%d'))\n",
    "    monat = int(DateTime.now().strftime('%m'))\n",
    "    for i in range(3):\n",
    "        if(tag == 1):\n",
    "            if(monat%2):\n",
    "                tag = 31\n",
    "                monat =-1\n",
    "            else:\n",
    "                tag = 30\n",
    "                monat =-1\n",
    "        else:\n",
    "            tag = tag - 1\n",
    "        print(tag)\n",
    "        daily_list = auslesen(filter_true,filter_mrd, tag)\n",
    "        daily_list_to_DB(daily_list,tag,monat)\n"
   ]
  },
  {
   "cell_type": "code",
   "execution_count": 11,
   "metadata": {
    "scrolled": true
   },
   "outputs": [
    {
     "name": "stdout",
     "output_type": "stream",
     "text": [
      "14\n",
      "14\n",
      "13\n",
      "13\n",
      "['LI', 'LiAutoInc.', '($0.08)', '-14.29', '$26,579,017,245', 'Sep/2020', '($0.07)', '1', 3, '26579017245']\n",
      "Update\n",
      "_____________\n",
      "['DKNG', 'DraftKingsInc.', '($0.98)', '-55.56', '$15,602,476,477', 'Sep/2020', '($0.63)', '6', 3, '15602476477']\n",
      "Update\n",
      "_____________\n",
      "['VIPS', 'VipshopHoldingsLimited', '$0.25', '4.17', '$14,973,107,066', 'Sep/2020', '$0.24', '1', 3, '14973107066']\n",
      "Update\n",
      "_____________\n",
      "12\n",
      "12\n",
      "['DIS', 'WaltDisneyCompany(The)', '($0.20)', '70.59', '$244,893,227,224', 'Sep/2020', '($0.68)', '9', 3, '244893227224']\n",
      "Update\n",
      "_____________\n",
      "['CSCO', 'CiscoSystems,Inc.', '$0.68', '7.9399999999999995', '$163,226,826,191', 'Oct/2020', '$0.63', '9', 3, '163226826191']\n",
      "Update\n",
      "_____________\n",
      "['PDD', 'PinduoduoInc.', '($0.10)', '58.33', '$160,733,418,609', 'Sep/2020', '($0.24)', '3', 3, '160733418609']\n",
      "Update\n",
      "_____________\n",
      "['AMAT', 'AppliedMaterials,Inc.', '$1.25', '6.84', '$63,747,136,927', 'Oct/2020', '$1.17', '9', 3, '63747136927']\n",
      "Update\n",
      "_____________\n",
      "['BAM', 'BrookfieldAssetManagementInc', '$0.65', '999', '$56,718,964,720', 'Sep/2020', '0', 3, '56718964720']\n",
      "Update\n",
      "_____________\n",
      "['MFG', 'MizuhoFinancialGroup,Inc.', '$0.04', '999', '$34,491,363,588', 'Sep/2020', '0', 3, '34491363588']\n",
      "Update\n",
      "_____________\n",
      "['XPEV', 'XPengInc.', '($0.66)', '999', '$32,194,096,964', 'Sep/2020', '0', 3, '32194096964']\n",
      "Update\n",
      "_____________\n",
      "['TDG', 'TransdigmGroupIncorporated', '$2.80', '90.48', '$30,167,419,895', 'Sep/2020', '$1.47', '2', 3, '30167419895']\n",
      "Update\n",
      "_____________\n",
      "['U', 'UnitySoftwareInc.', '($0.50)', '-100', '$26,794,931,415', 'Sep/2020', '($0.25)', '3', 3, '26794931415']\n",
      "Update\n",
      "_____________\n",
      "['GDRX', 'GoodRxHoldings,Inc.', '($0.25)', '-733.33', '$18,554,577,241', 'Sep/2020', '($0.03)', '2', 3, '18554577241']\n",
      "Update\n",
      "_____________\n",
      "['KB', 'KBFinancialGroupInc', '$2.02', '0', '$16,258,934,602', 'Sep/2020', '0', 3, '16258934602']\n",
      "Update\n",
      "_____________\n",
      "['NICE', 'NICELtd', '$1.15', '2.68', '$15,526,243,755', 'Sep/2020', '$1.12', '4', 3, '15526243755']\n",
      "Update\n",
      "_____________\n",
      "['FTCH', 'FarfetchLimited', '($0.50)', '-19.05', '$14,686,035,651', 'Sep/2020', '($0.42)', '3', 3, '14686035651']\n",
      "Update\n",
      "_____________\n",
      "['WIX', 'Wix.comLtd.', '($0.84)', '3.45', '$14,192,161,628', 'Sep/2020', '($0.87)', '5', 3, '14192161628']\n",
      "Update\n",
      "_____________\n",
      "['NTCO', 'Natura&CoHoldingS.A.', '$0.13', '999', '$12,289,920,255', 'Sep/2020', '0', 3, '12289920255']\n",
      "Insert\n",
      "_____________\n",
      "['WB', 'WeiboCorporation', '$0.64', '0', '$10,204,377,720', 'Sep/2020', '$0.54', '2', 3, '10204377720']\n",
      "Update\n",
      "_____________\n"
     ]
    }
   ],
   "source": [
    "start_scraping(True,10)"
   ]
  },
  {
   "cell_type": "code",
   "execution_count": null,
   "metadata": {},
   "outputs": [],
   "source": []
  },
  {
   "cell_type": "code",
   "execution_count": null,
   "metadata": {},
   "outputs": [],
   "source": []
  },
  {
   "cell_type": "code",
   "execution_count": null,
   "metadata": {},
   "outputs": [],
   "source": []
  },
  {
   "cell_type": "code",
   "execution_count": null,
   "metadata": {},
   "outputs": [],
   "source": []
  }
 ],
 "metadata": {
  "kernelspec": {
   "display_name": "Python 3",
   "language": "python",
   "name": "python3"
  },
  "language_info": {
   "codemirror_mode": {
    "name": "ipython",
    "version": 3
   },
   "file_extension": ".py",
   "mimetype": "text/x-python",
   "name": "python",
   "nbconvert_exporter": "python",
   "pygments_lexer": "ipython3",
   "version": "3.7.6"
  }
 },
 "nbformat": 4,
 "nbformat_minor": 4
}
